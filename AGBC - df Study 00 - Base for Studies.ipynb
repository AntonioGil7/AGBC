{
 "cells": [
  {
   "cell_type": "markdown",
   "id": "aa00df29",
   "metadata": {},
   "source": [
    "# AGBC - df - Base for Studies AGBC"
   ]
  },
  {
   "cell_type": "code",
   "execution_count": null,
   "id": "28b66380",
   "metadata": {},
   "outputs": [],
   "source": [
    "Excel \n",
    "\n",
    "Carregando o arquivo - Deu Certo"
   ]
  },
  {
   "cell_type": "markdown",
   "id": "111469f1",
   "metadata": {},
   "source": [
    "Gov = pd.read_excel(r'C:\\Users\\Gil\\Desktop\\Novos_Dataset\\Studies\\Gov_Br.xlsx')\n"
   ]
  },
  {
   "cell_type": "code",
   "execution_count": null,
   "id": "90170de6",
   "metadata": {},
   "outputs": [],
   "source": [
    "Excel \n",
    "\n",
    "Carregando o arquivo - tambem Deu Certo"
   ]
  },
  {
   "cell_type": "markdown",
   "id": "b483088d",
   "metadata": {},
   "source": [
    "Gov = pd.ExcelFile(r'C:\\Users\\Gil\\Desktop\\Novos_Dataset\\Studies\\Gov_Br.xlsx')\n",
    "\n",
    "print(Gov.sheet_names)"
   ]
  },
  {
   "cell_type": "markdown",
   "id": "68daa360",
   "metadata": {},
   "source": [
    "Excel\n",
    "\n",
    "Lendo - tambem deu certo\n",
    "\n",
    "arquivo = r'C:\\Users\\Gil\\Desktop\\Novos_Dataset\\Studies\\Gov_Br.xlsx'\n",
    "\n",
    "xls = pd.ExcelFile(arquivo)\n",
    "\n",
    "print(xls.sheet_names)"
   ]
  },
  {
   "cell_type": "code",
   "execution_count": null,
   "id": "912a9e06",
   "metadata": {},
   "outputs": [],
   "source": [
    "Excel \n",
    "\n",
    "lendo a planilha especifica -- metodo parse\n",
    "\n",
    "alunos = xls.parse('Nome da planilha no caso foi Alunos')\n",
    "\n",
    "alunos.head(8)"
   ]
  },
  {
   "cell_type": "code",
   "execution_count": null,
   "id": "7c87db6f",
   "metadata": {},
   "outputs": [],
   "source": [
    "csv\n",
    "\n",
    "lendo\n",
    "\n",
    "f = open('ca-500.csv','r')"
   ]
  },
  {
   "cell_type": "code",
   "execution_count": null,
   "id": "ddce13c4",
   "metadata": {},
   "outputs": [],
   "source": [
    "csv \n",
    "\n",
    "lendo separado tabular\n",
    "\n",
    "usuarios = pd.read_table('Users.txt', sep='|')"
   ]
  },
  {
   "cell_type": "code",
   "execution_count": null,
   "id": "bb25988a",
   "metadata": {},
   "outputs": [],
   "source": [
    "txt\n",
    "\n",
    "lendo separador tabular \n",
    "\n",
    "segundaleitura = pd.read_table('Users.txt', sep='|', header=None)"
   ]
  },
  {
   "cell_type": "code",
   "execution_count": null,
   "id": "48a470d1",
   "metadata": {},
   "outputs": [],
   "source": [
    "txt\n",
    "\n",
    "lendo txt separador largura fixa\n",
    "\n",
    "nj = pd.read_fwf('LarguraFixa.txt')fixedwidth"
   ]
  },
  {
   "cell_type": "markdown",
   "id": "50fb68d2",
   "metadata": {},
   "source": [
    "\n",
    "# --- IMPORTANTE ---\n",
    "\n",
    "# 1o Checar e Formatar Valores\n",
    "\n",
    "# 2o Checar e Formatar Datas\n",
    "\n",
    "# 3o Checar Textos"
   ]
  },
  {
   "cell_type": "markdown",
   "id": "4ca277bd",
   "metadata": {},
   "source": [
    "# COMEÇANDO"
   ]
  },
  {
   "cell_type": "code",
   "execution_count": null,
   "id": "40c146f1",
   "metadata": {},
   "outputs": [],
   "source": [
    "import pandas as pd\n",
    "import numpy as np"
   ]
  },
  {
   "cell_type": "raw",
   "id": "eb1c9eae",
   "metadata": {},
   "source": [
    "# instalando o xlrs se pedir \n",
    "pip install xlrd"
   ]
  },
  {
   "cell_type": "markdown",
   "id": "941f80c8",
   "metadata": {},
   "source": [
    "#  Lendo DataSet\n"
   ]
  },
  {
   "cell_type": "code",
   "execution_count": null,
   "id": "f2427e07",
   "metadata": {},
   "outputs": [],
   "source": [
    "csv\n",
    "\n",
    "file = r'C:\\Users\\Gil\\Desktop\\Novos_Dataset\\2017_Trecho.csv'\n",
    "\n",
    "ou \n",
    "\n",
    "Trecho = pd.read_csv(file, header=0, encoding = 'latin-1', sep=';')"
   ]
  },
  {
   "cell_type": "code",
   "execution_count": null,
   "id": "6abf6e94",
   "metadata": {},
   "outputs": [],
   "source": [
    "Retirando os espacos \n",
    "\n",
    "\n",
    "file=\"C:\\projetos\\Diarias.csv\"\n",
    "\n",
    "Diarias = pd.read_table(file, header=0, encoding = 'latin-1', sep='\\t')\n",
    "\n",
    "Diarias.columns=Diarias.columns.str.replace(' ','_')\n",
    "\n",
    "Diarias.columns"
   ]
  },
  {
   "cell_type": "markdown",
   "id": "b8dfd118",
   "metadata": {},
   "source": [
    "excel\n",
    "Gov = pd.read_excel(r'C:\\Users\\Gil\\Desktop\\Novos_Dataset\\Studies\\Gov_Br.xlsx')\n"
   ]
  },
  {
   "cell_type": "markdown",
   "id": "0ce937b5",
   "metadata": {},
   "source": [
    "\n",
    "\n",
    "# -- trocando a posicao do encoding com header -- também ok\n",
    "\n",
    "Diarias = pd.read_table(file, header=0, names=colunas_Diarias, encoding = 'latin-1', sep='\\t')\n",
    "\n",
    "Diarias.head(2)\n",
    "\n"
   ]
  },
  {
   "cell_type": "markdown",
   "id": "4ad3f4ff",
   "metadata": {},
   "source": [
    "# Criando o nome das Colunas"
   ]
  },
  {
   "cell_type": "markdown",
   "id": "c9ffc399",
   "metadata": {},
   "source": [
    "para achar o diretorio anaconda e como escrever\n",
    "\n",
    "pwd  \n",
    "\n",
    "'C:\\\\Projetos\\\\Studies'"
   ]
  },
  {
   "cell_type": "raw",
   "id": "7d2b7d94",
   "metadata": {},
   "source": [
    "# -- IMPORTANTE -- dtype é um dict = {:}¶\n",
    "\n",
    "colunas_Viagem = ['Id','Proposta','Situação','Viagem_Urgente','Justif','Código_Supe','Órgão_Supe','Cod_Sol', \n",
    "                  'Nome_Sol','CPF','Nome','Cargo', 'Função','Descr_Função','Data_Ini','Data_Fim','Destinos',\n",
    "                  'Motivo','Valor_Di','Valor_Pass','Devolução','Outros_Valores']\n",
    "\n",
    "file = r'C:\\Users\\Gil\\Desktop\\Novos_Dataset\\2017_Viagem.csv'\n",
    "\n",
    "Viagem = pd.read_csv(file, encoding = 'latin-1', sep=';', header=0, names=colunas_Viagem,dtype={Data_Fim':datetime64})\n",
    "\n",
    "# Viagem = pd.read_csv(file, encoding = 'latin-1', sep=';', header=0, names=colunas_Viagem,dtype={'Duração':'datetime64'})"
   ]
  },
  {
   "cell_type": "code",
   "execution_count": null,
   "id": "268dceb7",
   "metadata": {},
   "outputs": [],
   "source": [
    "# o nome ficou muito grande e terá de refeito\n",
    "\n",
    "colunas_Trecho = [\"Id\",\"Proposta\",\"Trecho\",\"Origem_Data\",\"Origem_País\",\"Origem_UF\",\"Origem_Cidade\",\"Destino_Data\",\n",
    "                  \"Destino_País\",\"Destino_UF\",\"Destino_Cidade\",\"Meio\",\"Diárias\",\"Missao\"]\n",
    "\n",
    "#  \"Identificador do processo de viagem \";\"Número da Proposta (PCDP)\";\"Sequência Trecho\";\"Origem - Data\";\n",
    "# \"Origem - País\";\"Origem - UF\";\"Origem - Cidade\";\"Destino - Data\";\"Destino - País\";\"Destino - UF\";\n",
    "# \"Destino - Cidade\";\"Meio de transporte\";\"Número Diárias\";\"Missao?\"\n",
    "\n",
    "\n",
    "file = r'C:\\Users\\Gil\\Desktop\\Novos_Dataset\\2017_Trecho.csv'\n",
    "\n",
    "Trecho = pd.read_csv(file, header=0, names=colunas_Trecho, encoding = 'latin-1', sep=';')\n",
    "\n",
    "Trecho.columns"
   ]
  },
  {
   "cell_type": "raw",
   "id": "68da6158",
   "metadata": {},
   "source": [
    "pd.to_datetime(Viagem['Duração'])"
   ]
  },
  {
   "cell_type": "raw",
   "id": "93ced082",
   "metadata": {},
   "source": [
    "Viagem.Data_Ini.dt.components"
   ]
  },
  {
   "cell_type": "raw",
   "id": "f15bc8b6",
   "metadata": {},
   "source": [
    "Viagem.Data_Ini.days\n"
   ]
  },
  {
   "cell_type": "raw",
   "id": "36c72f93",
   "metadata": {},
   "source": [
    "(Viagem['Duração']): data, dtype: datetime64[ns]"
   ]
  },
  {
   "cell_type": "raw",
   "id": "25731e4c",
   "metadata": {},
   "source": [
    "Viagem.dtypes"
   ]
  },
  {
   "cell_type": "code",
   "execution_count": null,
   "id": "d89513b0",
   "metadata": {},
   "outputs": [],
   "source": [
    "Trecho.head(5)"
   ]
  },
  {
   "cell_type": "code",
   "execution_count": null,
   "id": "51371123",
   "metadata": {},
   "outputs": [],
   "source": [
    "Trecho.tail(5)"
   ]
  },
  {
   "cell_type": "code",
   "execution_count": null,
   "id": "540fa3c8",
   "metadata": {},
   "outputs": [],
   "source": [
    "Trecho.shape\n",
    "# total 918512 linhas"
   ]
  },
  {
   "cell_type": "code",
   "execution_count": null,
   "id": "7fcffc13",
   "metadata": {},
   "outputs": [],
   "source": [
    "Trecho.dtypes"
   ]
  },
  {
   "cell_type": "code",
   "execution_count": null,
   "id": "f1c482f8",
   "metadata": {},
   "outputs": [],
   "source": [
    "# outras formas de corrigir erro codex -- testadas e deram certo --\n",
    "\n",
    "# 1 file = r'C:\\Users\\Gil\\Desktop\\Dataset_Diarias\\2017_Viagem.csv' -- a que foi usada --\n",
    "\n",
    "# 2: file = 'C:/Users/Gil/Desktop/Dataset_Diarias/2017_Viagem.csv'\n",
    "\n",
    "# 3 file = r'C:\\\\Users\\\\Gil\\\\Desktop\\\\Dataset_Diarias\\\\2017_Viagem.csv'\n"
   ]
  },
  {
   "cell_type": "markdown",
   "id": "217c7744",
   "metadata": {},
   "source": [
    "# Analise dos 3 passos a serem checados\n",
    "# 1 - Datas\n",
    "# 2 - Valores\n",
    "# 3 - Duplicidade"
   ]
  },
  {
   "cell_type": "markdown",
   "id": "396e8a9d",
   "metadata": {},
   "source": [
    "# \n",
    "\n",
    "# 1o passo - Convertendo as Datas"
   ]
  },
  {
   "cell_type": "code",
   "execution_count": null,
   "id": "8c13551e",
   "metadata": {},
   "outputs": [],
   "source": [
    "# Alterando a Data de Origem\n",
    "\n",
    "Trecho.Origem_Data = pd.to_datetime(Trecho.Origem_Data,dayfirst = True)"
   ]
  },
  {
   "cell_type": "code",
   "execution_count": null,
   "id": "b83f0ff8",
   "metadata": {},
   "outputs": [],
   "source": [
    "Trecho.Origem_Data.head(5)"
   ]
  },
  {
   "cell_type": "raw",
   "id": "bf81fc17",
   "metadata": {},
   "source": [
    "# Como nao converti aparace os '/'\n",
    "Viagem.Data_Fim.tail()"
   ]
  },
  {
   "cell_type": "code",
   "execution_count": null,
   "id": "739cfb19",
   "metadata": {},
   "outputs": [],
   "source": [
    "# Alterando a Data de Destino\n",
    "\n",
    "Trecho.Destino_Data = pd.to_datetime(Trecho.Destino_Data,dayfirst = True)"
   ]
  },
  {
   "cell_type": "code",
   "execution_count": null,
   "id": "a1f4de73",
   "metadata": {},
   "outputs": [],
   "source": [
    "# Como ja converti some as '/' e desaparece as ''\n",
    "\n",
    "Trecho.Destino_Data.tail(5)"
   ]
  },
  {
   "cell_type": "code",
   "execution_count": null,
   "id": "9c269686",
   "metadata": {},
   "outputs": [],
   "source": [
    "# conferindo\n",
    "\n",
    "Trecho.dtypes"
   ]
  },
  {
   "cell_type": "code",
   "execution_count": null,
   "id": "d79d7b7c",
   "metadata": {},
   "outputs": [],
   "source": [
    "# NÂO Pode definir o Float na leitura -- o pd pq nao permite converter object to float --\n",
    "\n",
    "# 1o troca ',' por '.' --  e depois converte to float --\n",
    "\n",
    "# -- IMPORTANTE -- lembrandi que dtype é um dict  = {}"
   ]
  },
  {
   "cell_type": "raw",
   "id": "dd0314dc",
   "metadata": {},
   "source": [
    "# IMPRIMINDO AS COLUNAS APENAS\n",
    "\n",
    "Viagem.columns"
   ]
  },
  {
   "cell_type": "code",
   "execution_count": null,
   "id": "549131fb",
   "metadata": {},
   "outputs": [],
   "source": [
    "Trecho.index"
   ]
  },
  {
   "cell_type": "markdown",
   "id": "48e230d7",
   "metadata": {},
   "source": [
    "# 2o Passo - Convertendo Valores - FLOAT"
   ]
  },
  {
   "cell_type": "code",
   "execution_count": null,
   "id": "97a6666a",
   "metadata": {},
   "outputs": [],
   "source": [
    "# As Colunas:   'Diárias', \n",
    "\n",
    "# 1) tem que converter objet para inteiro (Int64) - trocando ','  por '.' \n",
    "\n",
    "\n",
    "# 2) converte para float com o astype"
   ]
  },
  {
   "cell_type": "code",
   "execution_count": null,
   "id": "58d817a9",
   "metadata": {},
   "outputs": [],
   "source": [
    "# Convertendo valor para float - Valor_Di\n",
    "\n",
    "Trecho['Diárias'] = Trecho.Diárias.str.replace(',','.').astype(float)"
   ]
  },
  {
   "cell_type": "code",
   "execution_count": null,
   "id": "1e97a809",
   "metadata": {},
   "outputs": [],
   "source": [
    "# Conferindo\n",
    "\n",
    "    \n",
    "Trecho.dtypes"
   ]
  },
  {
   "cell_type": "markdown",
   "id": "aaf294fe",
   "metadata": {},
   "source": [
    "# Criando nova coluna - Duração -"
   ]
  },
  {
   "cell_type": "raw",
   "id": "a40c9bc8",
   "metadata": {},
   "source": [
    "# -- IMPORTANTE -- dtype é um dict = {}¶\n",
    "# colunas_Viagem = [''.''] \n",
    "# file=\".....csv\" \n",
    "Trecho = pd.read_table(file, encoding = 'latin-1', sep='\\t', header=0, names=colunas_Viagem,dtype={'Duração':datetime})"
   ]
  },
  {
   "cell_type": "code",
   "execution_count": null,
   "id": "d4b6d752",
   "metadata": {},
   "outputs": [],
   "source": [
    "# Viagem['Duração'] == dtype{datetime64}\n",
    "# Viagem['Duração'].dtype{datetime64}\n",
    "# Viagem.Duração = Viagem.Duração.astype(datetime64[ns])"
   ]
  },
  {
   "cell_type": "code",
   "execution_count": null,
   "id": "4d2dd297",
   "metadata": {},
   "outputs": [],
   "source": [
    "# Trecho['Duração'].astype()"
   ]
  },
  {
   "cell_type": "code",
   "execution_count": null,
   "id": "b311b94f",
   "metadata": {},
   "outputs": [],
   "source": [
    "Trecho['Origem_Data'].astype\n"
   ]
  },
  {
   "cell_type": "code",
   "execution_count": null,
   "id": "ecbe58a6",
   "metadata": {},
   "outputs": [],
   "source": [
    "Trecho['Destino_Data'].astype\n"
   ]
  },
  {
   "cell_type": "code",
   "execution_count": null,
   "id": "468a3612",
   "metadata": {},
   "outputs": [],
   "source": [
    "Trecho['Duração'] = Trecho['Destino_Data'] - Trecho['Origem_Data']\n"
   ]
  },
  {
   "cell_type": "code",
   "execution_count": null,
   "id": "88e6b5d0",
   "metadata": {},
   "outputs": [],
   "source": [
    "# conferindo\n",
    "Trecho.dtypes\n",
    "# ficou timedelta"
   ]
  },
  {
   "cell_type": "markdown",
   "id": "a09958a1",
   "metadata": {},
   "source": [
    "# Verificando se há Duplicidade"
   ]
  },
  {
   "cell_type": "code",
   "execution_count": null,
   "id": "f310ddc7",
   "metadata": {},
   "outputs": [],
   "source": [
    "Trecho.duplicated().sum()\n",
    "# Nao há"
   ]
  },
  {
   "cell_type": "markdown",
   "id": "8112e38c",
   "metadata": {},
   "source": [
    "# Iniciando a Análise"
   ]
  },
  {
   "cell_type": "code",
   "execution_count": null,
   "id": "2263e89e",
   "metadata": {},
   "outputs": [],
   "source": [
    "Trecho.describe"
   ]
  },
  {
   "cell_type": "code",
   "execution_count": null,
   "id": "c0cebc9c",
   "metadata": {},
   "outputs": [],
   "source": [
    "# Valores \n",
    "\n",
    "Trecho.describe(include='float')"
   ]
  },
  {
   "cell_type": "raw",
   "id": "104f3c8e",
   "metadata": {},
   "source": [
    "# Valores - outro Comando com os []\n",
    "\n",
    "\n",
    "Viagem.describe(include=['float'])\n",
    "# MESMO RESULTADO"
   ]
  },
  {
   "cell_type": "code",
   "execution_count": null,
   "id": "d5d60495",
   "metadata": {},
   "outputs": [],
   "source": [
    "# Datas \n",
    "# Não entendi pq nao aparececeu a coluna nova -- duração -- \n",
    "\n",
    "Trecho.describe(include='datetime')"
   ]
  },
  {
   "cell_type": "code",
   "execution_count": null,
   "id": "dd581a98",
   "metadata": {},
   "outputs": [],
   "source": [
    "# Datas - mesmo resultado com os []\n",
    "# Não entendi pq nao aparececeu a coluna nova -- duração -- \n",
    "\n",
    "Trecho.describe(include=['datetime64'])"
   ]
  },
  {
   "cell_type": "code",
   "execution_count": null,
   "id": "4eb3c948",
   "metadata": {},
   "outputs": [],
   "source": [
    "# Tudo -- IMPORTANTE -- USAR o all\n",
    "\n",
    "\n",
    "Trecho.describe(include='all')"
   ]
  },
  {
   "cell_type": "code",
   "execution_count": null,
   "id": "40553438",
   "metadata": {},
   "outputs": [],
   "source": [
    "Trecho"
   ]
  },
  {
   "cell_type": "markdown",
   "id": "3a6e8bce",
   "metadata": {},
   "source": [
    "# Descobrindo quantas foram a serviço"
   ]
  },
  {
   "cell_type": "code",
   "execution_count": null,
   "id": "2f55529f",
   "metadata": {},
   "outputs": [],
   "source": [
    "Trecho.shape"
   ]
  },
  {
   "cell_type": "code",
   "execution_count": null,
   "id": "57b5aa6f",
   "metadata": {},
   "outputs": [],
   "source": [
    "Trecho['Missao'].str.contains('Não').sum()\n",
    "\n",
    "# 984.559 nâo foram a serviço cerca de 50,2%"
   ]
  },
  {
   "cell_type": "code",
   "execution_count": null,
   "id": "84715a33",
   "metadata": {},
   "outputs": [],
   "source": [
    "Trecho['Missao'].str.contains('Sim').sum()\n",
    "\n",
    "# 976.404 nâo foram a serviço - ok. A soma confere com o totl de linhas"
   ]
  },
  {
   "cell_type": "code",
   "execution_count": null,
   "id": "8c9e0428",
   "metadata": {},
   "outputs": [],
   "source": [
    "Trecho['Missao'] == ('Sim')"
   ]
  },
  {
   "cell_type": "code",
   "execution_count": null,
   "id": "3f803d3f",
   "metadata": {},
   "outputs": [],
   "source": [
    "Trecho['Missao'] == ('Não')"
   ]
  },
  {
   "cell_type": "code",
   "execution_count": null,
   "id": "424481af",
   "metadata": {},
   "outputs": [],
   "source": [
    "len(Trecho[Trecho.Missao == 'Não'])\n",
    "\n",
    "# Foram ao todo 23.980 "
   ]
  },
  {
   "cell_type": "raw",
   "id": "4c5c5f06",
   "metadata": {},
   "source": [
    "# Novo df - Excluindo as Viagens Nao realizadas -"
   ]
  },
  {
   "cell_type": "raw",
   "id": "e4096243",
   "metadata": {},
   "source": [
    "# Viagem1 = Viagem[Viagem.Situação == 'Realizada']"
   ]
  },
  {
   "cell_type": "raw",
   "id": "e2c47b0c",
   "metadata": {},
   "source": [
    "Viagem1.head(5)"
   ]
  },
  {
   "cell_type": "raw",
   "id": "3d966113",
   "metadata": {},
   "source": [
    "Viagem1.shape\n",
    "# = 894.532 - confere - ok"
   ]
  },
  {
   "cell_type": "markdown",
   "id": "85323a70",
   "metadata": {},
   "source": [
    "# Calculando a Media da Duração "
   ]
  },
  {
   "cell_type": "code",
   "execution_count": null,
   "id": "08426b42",
   "metadata": {},
   "outputs": [],
   "source": [
    "Trecho.Duração.mean()\n",
    "# coincide com oresultado do describe all"
   ]
  },
  {
   "cell_type": "code",
   "execution_count": null,
   "id": "af62bc08",
   "metadata": {},
   "outputs": [],
   "source": [
    "Trecho.Duração.head(10)"
   ]
  },
  {
   "cell_type": "code",
   "execution_count": null,
   "id": "6cd06093",
   "metadata": {},
   "outputs": [],
   "source": [
    "Trecho.Duração.tail(10)"
   ]
  },
  {
   "cell_type": "markdown",
   "id": "467d1f71",
   "metadata": {},
   "source": [
    "# Verificando os Meios"
   ]
  },
  {
   "cell_type": "code",
   "execution_count": null,
   "id": "94a68e9d",
   "metadata": {},
   "outputs": [],
   "source": [
    "Trecho.Meio!=('Aéreo')\n",
    "\n",
    "# Trecho.Meio.astype"
   ]
  },
  {
   "cell_type": "code",
   "execution_count": null,
   "id": "fc5102f2",
   "metadata": {},
   "outputs": [],
   "source": [
    "Trecho.Meio.value_counts()"
   ]
  },
  {
   "cell_type": "code",
   "execution_count": null,
   "id": "c9fcac0d",
   "metadata": {},
   "outputs": [],
   "source": [
    "Trecho[Trecho.Meio == 'Marítimo'].head(10)\n"
   ]
  },
  {
   "cell_type": "code",
   "execution_count": null,
   "id": "df809f5d",
   "metadata": {},
   "outputs": [],
   "source": [
    "Trecho[Trecho.Meio == 'Marítimo'].tail(10)"
   ]
  },
  {
   "cell_type": "code",
   "execution_count": null,
   "id": "f1a0a102",
   "metadata": {},
   "outputs": [],
   "source": [
    "Trecho[Trecho.Meio == 'Inválido'].head(10)"
   ]
  },
  {
   "cell_type": "code",
   "execution_count": null,
   "id": "d68104ba",
   "metadata": {},
   "outputs": [],
   "source": [
    "Trecho[Trecho.Meio == 'Ferroviário'].head(10)"
   ]
  },
  {
   "cell_type": "markdown",
   "id": "c532471a",
   "metadata": {},
   "source": [
    "# Criando df Trecho1 - retirando varias columns"
   ]
  },
  {
   "cell_type": "code",
   "execution_count": null,
   "id": "90dc6c4c",
   "metadata": {},
   "outputs": [],
   "source": [
    "Trecho"
   ]
  },
  {
   "cell_type": "code",
   "execution_count": null,
   "id": "b21b8b6b",
   "metadata": {},
   "outputs": [],
   "source": [
    "# Criando Novo Dataset \n",
    "\n",
    "Trecho1 = Trecho.drop(['Id','Proposta','Trecho','Origem_UF','Destino_UF'],axis=1)\n",
    "\n",
    "\n",
    "Trecho1.head(5)\n",
    "# ficaram as colunas: (['Origem_Data','Origem_País','Origem_Cidade','Destino_Data','Destino_País','Destino_Cidade','Meio','Diárias','Missao','Duração'])\n"
   ]
  },
  {
   "cell_type": "code",
   "execution_count": null,
   "id": "7ec13780",
   "metadata": {},
   "outputs": [],
   "source": [
    "Trecho1.tail(5)"
   ]
  },
  {
   "cell_type": "markdown",
   "id": "e2dd10a8",
   "metadata": {},
   "source": [
    "# Revisão dos comandos para Data  .dt -"
   ]
  },
  {
   "cell_type": "code",
   "execution_count": null,
   "id": "f5c7f13a",
   "metadata": {},
   "outputs": [],
   "source": [
    "# Para Dias \n",
    "\n",
    "Trecho.Origem_Data.dt.month_name().tail()\n",
    "# Trecho.Origem_Data.dt.week"
   ]
  },
  {
   "cell_type": "code",
   "execution_count": null,
   "id": "7ab70b61",
   "metadata": {},
   "outputs": [],
   "source": [
    "# Para Semana --\n",
    "\n",
    "\n",
    "Trecho.Origem_Data.dt.week.head(15)"
   ]
  },
  {
   "cell_type": "code",
   "execution_count": null,
   "id": "974fa4d1",
   "metadata": {},
   "outputs": [],
   "source": [
    "# Para dias da Semana \n",
    "# 2a feira é 0, 3a f = 1, 4a f = 2, etc\n",
    "\n",
    "Trecho.Destino_Data.dt.weekday.tail(10)"
   ]
  },
  {
   "cell_type": "code",
   "execution_count": null,
   "id": "53e9b78b",
   "metadata": {},
   "outputs": [],
   "source": [
    "# para checar nome do dia da semana\n",
    "\n",
    "\n",
    "Trecho.Origem_Data.dt.day_name().tail(10)"
   ]
  },
  {
   "cell_type": "code",
   "execution_count": null,
   "id": "563d0604",
   "metadata": {},
   "outputs": [],
   "source": [
    "# Para MES \n",
    "\n",
    "Trecho.Origem_Data.dt.month_name().head(10)"
   ]
  },
  {
   "cell_type": "code",
   "execution_count": null,
   "id": "3d5c55c7",
   "metadata": {},
   "outputs": [],
   "source": [
    "Trecho.Destino_Data.dt.month_name().tail(10)"
   ]
  },
  {
   "cell_type": "code",
   "execution_count": null,
   "id": "66a70689",
   "metadata": {},
   "outputs": [],
   "source": [
    "# Para MES\n",
    "\n",
    "\n",
    "Trecho.Origem_Data.dt.month\n",
    "#.tail(10)\n",
    "# NAo tem ()"
   ]
  },
  {
   "cell_type": "code",
   "execution_count": null,
   "id": "7c017126",
   "metadata": {},
   "outputs": [],
   "source": [
    "# Dia do Ano\n",
    "\n",
    "\n",
    "Trecho.Origem_Data.dt.dayofyear\n",
    "# .tail(5)\n",
    "# NAo tem ()"
   ]
  },
  {
   "cell_type": "code",
   "execution_count": null,
   "id": "ebf03dfd",
   "metadata": {},
   "outputs": [],
   "source": [
    "# Dia de hoje\n",
    "\n",
    "\n",
    "a = pd.Series(pd.to_datetime('today'))\n",
    "a"
   ]
  },
  {
   "cell_type": "code",
   "execution_count": null,
   "id": "6905870c",
   "metadata": {},
   "outputs": [],
   "source": [
    "# percentagem de hoje para o ano todo\n",
    "\n",
    "\n",
    "a.dt.dayofyear / 365\n",
    "# = 0,02%"
   ]
  },
  {
   "cell_type": "code",
   "execution_count": null,
   "id": "9349f321",
   "metadata": {},
   "outputs": [],
   "source": [
    "# Trimestre \n",
    "\n",
    "\n",
    "Trecho['Origem_Data'].dt.quarter.head(5)"
   ]
  },
  {
   "cell_type": "raw",
   "id": "5dd51f46",
   "metadata": {},
   "source": [
    "# Para arredondar\n",
    "# usando day = today -- a = pd.Series(pd.to_datetime('today'))\n",
    "\n",
    "\n",
    "a.dt.round(freq='min')\n",
    "# outros parâmetros \n",
    "# freq = s = seg, minutos = min, dia = d, h = hora, day = d\n",
    "# Nao ser pzra MES e nem ANO -- obiviamente --"
   ]
  },
  {
   "cell_type": "raw",
   "id": "e9c955a3",
   "metadata": {},
   "source": [
    "# Criando -- df --  Fev"
   ]
  },
  {
   "cell_type": "raw",
   "id": "80ce4c19",
   "metadata": {},
   "source": [
    "# Identificando Apenas Mes de Fevereiro como Data_Ini\n",
    "\n",
    "\n",
    "Diarias_Vg[Diarias_Vg['Data_Ini'].dt.month == 2]"
   ]
  },
  {
   "cell_type": "raw",
   "id": "6dfe0d16",
   "metadata": {},
   "source": [
    "# Criando Data Frame\n",
    "\n",
    "Diarias_Fev = Diarias_Vg[Diarias_Vg['Data_Ini'].dt.month == 2]"
   ]
  },
  {
   "cell_type": "raw",
   "id": "87739965",
   "metadata": {},
   "source": [
    "Diarias_Fev.head(5)"
   ]
  },
  {
   "cell_type": "raw",
   "id": "b30b5bb3",
   "metadata": {},
   "source": [
    "Diarias_Fev.tail(5)"
   ]
  },
  {
   "cell_type": "raw",
   "id": "9bb464f2",
   "metadata": {},
   "source": [
    "Diarias_Fev.Data_Ini.head(5)"
   ]
  },
  {
   "cell_type": "raw",
   "id": "aa224ea2",
   "metadata": {},
   "source": [
    "Diarias_Fev.Data_Fim.tail(5)"
   ]
  },
  {
   "cell_type": "raw",
   "id": "f5cca40e",
   "metadata": {},
   "source": [
    "Diarias_Fev.shape\n",
    "# Sao 48.500 registros"
   ]
  },
  {
   "cell_type": "raw",
   "id": "f0eef345",
   "metadata": {},
   "source": [
    "# Localizando linhas com todas as colunas\n",
    "\n",
    "\n",
    "Diarias_Fev.loc[2:7 ,:]"
   ]
  },
  {
   "cell_type": "raw",
   "id": "0103054c",
   "metadata": {},
   "source": [
    "# Para mostrar as ultimas linhas de todas as colunas -- COM INDEX -- \n",
    "\n",
    "\n",
    "Diarias_Fev.loc[ 915810:,:]"
   ]
  },
  {
   "cell_type": "raw",
   "id": "7034b500",
   "metadata": {},
   "source": [
    "Diarias_Fev.dtypes"
   ]
  },
  {
   "cell_type": "markdown",
   "id": "a9188b33",
   "metadata": {},
   "source": [
    "# Analisando a Duração"
   ]
  },
  {
   "cell_type": "code",
   "execution_count": null,
   "id": "1c472cf5",
   "metadata": {},
   "outputs": [],
   "source": [
    "Trecho1.dtypes"
   ]
  },
  {
   "cell_type": "code",
   "execution_count": null,
   "id": "451efecf",
   "metadata": {},
   "outputs": [],
   "source": [
    "Trecho.Duração.sort_index()"
   ]
  },
  {
   "cell_type": "code",
   "execution_count": null,
   "id": "2e6860cb",
   "metadata": {},
   "outputs": [],
   "source": [
    "Trecho.Duração.value_counts().sort_values()"
   ]
  },
  {
   "cell_type": "code",
   "execution_count": null,
   "id": "7475ff67",
   "metadata": {},
   "outputs": [],
   "source": [
    "len(Trecho.Duração.value_counts())\n",
    "\n",
    "# 341 dias diferentes "
   ]
  },
  {
   "cell_type": "markdown",
   "id": "14350dc0",
   "metadata": {},
   "source": [
    "# df para meses"
   ]
  },
  {
   "cell_type": "raw",
   "id": "f4b6a261",
   "metadata": {},
   "source": [
    "\n",
    "\n",
    "# Diarias_Vg[Diarias_Vg.Data_Ini==Diarias_Vg.Data_Ini.dt.month].apply\n",
    "\n",
    "# Diarias_Vg['Mes_Ini'] = Diarias_Vg[Diarias_Vg.Data_Ini]==Diarias_Vg.Data_Ini.dt.month.apply\n",
    "\n",
    "# Diarias_Vg['Mes'] = Diarias_Vg[Diarias_Vg.Data_Ini]==Diarias_Vg.Data_Ini.dt.month\n",
    "                                   \n",
    "Diarias_Vg['Mes'] = Diarias_Vg[Diarias_Vg.Data_Ini]=='2'\n",
    "    \n",
    "# Diarias_Vg.Data_Ini.dt.month                              \n",
    "                                   \n",
    "# Viagem.Data_Ini = pd.to_datetime(Viagem.Data_Ini,dayfirst = True) \n",
    "# .astype(datetime)\n",
    "#  timedelta64[ns]"
   ]
  },
  {
   "cell_type": "raw",
   "id": "6ebf0b98",
   "metadata": {},
   "source": [
    "def Mes (m):\n",
    "    if m =='y/01/d':\n",
    "        return '01'\n",
    "    if m =='y/02/d':\n",
    "        return '02'\n",
    "    if m =='y/03/d':\n",
    "        return '03'\n",
    "    if m =='%y/04/%d':\n",
    "        return '04'\n",
    "    if m == '%y/05/%d':\n",
    "        return '05'\n",
    "    if m =='%y/06/%d':\n",
    "        return '06'\n",
    "    if m =='%y/07/%d':\n",
    "        return '07'\n",
    "    if m =='%y/08/%d':\n",
    "        return '08'\n",
    "    if m =='%y/09/%d':\n",
    "        return '09'\n",
    "    if m =='%y/10/%d':\n",
    "        return '10'\n",
    "    if m =='%y/11/%d':\n",
    "        return '11'\n",
    "    if m =='%y/12/%d':\n",
    "        return '12'"
   ]
  },
  {
   "cell_type": "raw",
   "id": "f3b0d62f",
   "metadata": {},
   "source": [
    "Trecho1['Mes'] = Trecho1['Origem_Data'].apply(Mes)\n",
    "\n",
    "\n",
    "# dtype={'Duração':datetime})\n"
   ]
  },
  {
   "cell_type": "raw",
   "id": "014b9d4e",
   "metadata": {},
   "source": [
    "Trecho1"
   ]
  },
  {
   "cell_type": "raw",
   "id": "f88a11b3",
   "metadata": {},
   "source": [
    "Diarias_Vg['Mes'] = Diarias_Vg['Data_Ini'].apply(Mes)\n",
    "\n",
    "\n",
    "# .dtype={'Mes':int}"
   ]
  },
  {
   "cell_type": "raw",
   "id": "f0da6b99",
   "metadata": {},
   "source": [
    "Diarias_Vg.head(5)"
   ]
  },
  {
   "cell_type": "raw",
   "id": "6ffbecf0",
   "metadata": {},
   "source": [
    "pd.to_datetime(Diarias_Vg['Mes_Ini']).apply(pd.Timestamp)\n",
    "# pd.to_datetime(Diarias_Vg['Mes_Ini']).apply(pd.Timestamp)\n",
    "# Diarias_Vg['Mes_Ini'].astype(datetime64)\n",
    "\n",
    "# Diarias_Vg['Mes_Ini'].astype(datetime64)"
   ]
  },
  {
   "cell_type": "raw",
   "id": "8fd93746",
   "metadata": {},
   "source": [
    "Diarias_Vg.dtypes"
   ]
  },
  {
   "cell_type": "raw",
   "id": "8eef9095",
   "metadata": {},
   "source": [
    "Viagem.Mes = Viagem.Mes.astype(float)\n",
    "# Viagem.Valor_Pass = Viagem.Valor_Pass.str.replace(',','.').astype(float)"
   ]
  },
  {
   "cell_type": "raw",
   "id": "6f246c88",
   "metadata": {},
   "source": [
    "Diarias_Mes.head()"
   ]
  },
  {
   "cell_type": "raw",
   "id": "962b1c11",
   "metadata": {},
   "source": [
    "Diarias_Mes.shape"
   ]
  },
  {
   "cell_type": "markdown",
   "id": "2b03ef3e",
   "metadata": {},
   "source": [
    "# Revendo as Estatisticas"
   ]
  },
  {
   "cell_type": "code",
   "execution_count": null,
   "id": "d5fa833b",
   "metadata": {},
   "outputs": [],
   "source": [
    "Trecho1.describe(include='all')\n",
    "# A media passou de 4 para 6 dias"
   ]
  },
  {
   "cell_type": "raw",
   "id": "121cd9fd",
   "metadata": {},
   "source": [
    "Trecho1.Duração.mean()\n",
    "# A media passou para 1 dias"
   ]
  },
  {
   "cell_type": "markdown",
   "id": "1b45cccb",
   "metadata": {},
   "source": [
    "# Analisando as Quantidades de Diarias"
   ]
  },
  {
   "cell_type": "code",
   "execution_count": null,
   "id": "fd162f2b",
   "metadata": {},
   "outputs": [],
   "source": [
    "# Ordenando o Data Frame por menores valores -- DECRESCENTE --\n",
    "\n",
    "Trecho1.sort_values('Diárias',ascending=False).head(15) "
   ]
  },
  {
   "cell_type": "code",
   "execution_count": null,
   "id": "b3e1195b",
   "metadata": {},
   "outputs": [],
   "source": [
    "Trecho1.Diárias.value_counts\n"
   ]
  },
  {
   "cell_type": "code",
   "execution_count": null,
   "id": "8fdc3cde",
   "metadata": {},
   "outputs": [],
   "source": [
    "# agrupando pelo Nr de diarias\n",
    "Trecho1.Diárias.sort_values().value_counts()"
   ]
  },
  {
   "cell_type": "code",
   "execution_count": null,
   "id": "7b0c8d5f",
   "metadata": {},
   "outputs": [],
   "source": [
    "# Contando o df\n",
    "len(Trecho1.Diárias.value_counts())\n",
    "\n",
    "# 390 valores diferentes - confere com a Info acima"
   ]
  },
  {
   "cell_type": "code",
   "execution_count": null,
   "id": "cf1f26ba",
   "metadata": {},
   "outputs": [],
   "source": [
    "# Ordenando o Data Frame por MAIORES valores -- CRESCENTE --\n",
    "\n",
    "\n",
    "Trecho1.sort_values('Diárias',ascending=True).head(5) \n",
    "# Ja tinha feito decrescente"
   ]
  },
  {
   "cell_type": "code",
   "execution_count": null,
   "id": "a86f343c",
   "metadata": {},
   "outputs": [],
   "source": [
    "Trecho1.sort_values('Diárias',ascending=False).head(25) "
   ]
  },
  {
   "cell_type": "raw",
   "id": "3301005a",
   "metadata": {},
   "source": [
    "# Essa duração não te mdiarias por isso nao está no df acima \n",
    "diferente Trecho1.Duração.max()\n",
    "# 536 dias"
   ]
  },
  {
   "cell_type": "markdown",
   "id": "3a05cd0a",
   "metadata": {},
   "source": [
    "# Verificando a maior duracao "
   ]
  },
  {
   "cell_type": "code",
   "execution_count": null,
   "id": "a69a2d4b",
   "metadata": {},
   "outputs": [],
   "source": [
    "Trecho1[Trecho1.Duração == '536 days']\n",
    "# Timedelta '536 days"
   ]
  },
  {
   "cell_type": "code",
   "execution_count": null,
   "id": "8d8a0164",
   "metadata": {},
   "outputs": [],
   "source": [
    "Trecho.loc[486702,:]"
   ]
  },
  {
   "cell_type": "code",
   "execution_count": null,
   "id": "52704386",
   "metadata": {},
   "outputs": [],
   "source": [
    "Trecho1.sort_values('Duração', ascending=False).head(25)\n",
    "# conclusao as maiores duracoes nao tem pagamento de Diarias e sao - missao -               "
   ]
  },
  {
   "cell_type": "markdown",
   "id": "2d9a0a7d",
   "metadata": {},
   "source": [
    "# Analise para Criar df com maiores Diarias"
   ]
  },
  {
   "cell_type": "code",
   "execution_count": null,
   "id": "3025db18",
   "metadata": {},
   "outputs": [],
   "source": [
    "len(Trecho1[Trecho1.Diárias >= 100])\n",
    "# 2.071 registros com mais de 100 Di"
   ]
  },
  {
   "cell_type": "code",
   "execution_count": null,
   "id": "9ea18730",
   "metadata": {},
   "outputs": [],
   "source": [
    "len(Trecho1[Trecho1.Diárias >= 200])\n",
    "# 307 registros com mais de 200 Di"
   ]
  },
  {
   "cell_type": "code",
   "execution_count": null,
   "id": "56cccdfb",
   "metadata": {},
   "outputs": [],
   "source": [
    "len(Trecho1[Trecho1.Diárias >= 300])\n",
    "# 63 registros com mais de 300 Di"
   ]
  },
  {
   "cell_type": "code",
   "execution_count": null,
   "id": "a0d135d5",
   "metadata": {},
   "outputs": [],
   "source": [
    "# Fazendo a ordenacao por mais de 100 Diarias -- com List Comprehension --\n",
    "# ordenando por index \n",
    "\n",
    "Trecho1[Trecho1.Diárias >= 100].sort_index().tail(15)"
   ]
  },
  {
   "cell_type": "raw",
   "id": "56934c01",
   "metadata": {},
   "source": [
    "# vendo as diarias > R$ 50.000\n",
    "# estao listadas todos com valores e a respectiva soma \n",
    "\n",
    "\n",
    "Diarias_Vg[Diarias_Vg.Valor_Di >= 50000].sum()\n",
    "# SOMA de quem ganhou mais de R$ 10.000 = R $ 152.597.075,69"
   ]
  },
  {
   "cell_type": "raw",
   "id": "d6fbb803",
   "metadata": {},
   "source": [
    "# Total de Pessoas que ganhou mais de R$ 50.000\n",
    "\n",
    "\n",
    "len(Diarias_Vg[Diarias_Vg.Valor_Di >= 50000])\n",
    "# 2.248 pessoas "
   ]
  },
  {
   "cell_type": "raw",
   "id": "11864192",
   "metadata": {},
   "source": [
    "# Aplicando o Value_counts para contar as ocorrencias\n",
    "# Outra forma de Conferir\n",
    "\n",
    "\n",
    "Diarias_Vg[Diarias_Vg.Valor_Di >= 50000].value_counts()\n",
    "# sao  2.248 ocorrencias"
   ]
  },
  {
   "cell_type": "code",
   "execution_count": null,
   "id": "183988fc",
   "metadata": {},
   "outputs": [],
   "source": [
    "# Aplicando o Value_counts para ver as ocorrencias\n",
    "# Para ver as 10 primeiras ocorrencias\n",
    "\n",
    "Trecho[Trecho.Diárias >= 100].value_counts().head(5)"
   ]
  },
  {
   "cell_type": "markdown",
   "id": "6a905507",
   "metadata": {},
   "source": [
    "# Criando df Diarias_Altas"
   ]
  },
  {
   "cell_type": "code",
   "execution_count": null,
   "id": "a730e030",
   "metadata": {},
   "outputs": [],
   "source": [
    "Diarias_Altas = Trecho1[Trecho1.Diárias >= 100]"
   ]
  },
  {
   "cell_type": "code",
   "execution_count": null,
   "id": "87d79fec",
   "metadata": {},
   "outputs": [],
   "source": [
    "Diarias_Altas"
   ]
  },
  {
   "cell_type": "code",
   "execution_count": null,
   "id": "fc87f007",
   "metadata": {},
   "outputs": [],
   "source": [
    "Diarias_Altas.columns"
   ]
  },
  {
   "cell_type": "code",
   "execution_count": null,
   "id": "2f353ed9",
   "metadata": {},
   "outputs": [],
   "source": [
    "Diarias_Altas.shape\n",
    "# Sao 2.071 ocorrencias"
   ]
  },
  {
   "cell_type": "code",
   "execution_count": null,
   "id": "1c41bd6f",
   "metadata": {},
   "outputs": [],
   "source": [
    "# ver a media da duração\n",
    "Diarias_Altas.Duração.mean()\n",
    "# passou de 154 dias"
   ]
  },
  {
   "cell_type": "markdown",
   "id": "cb53c3d8",
   "metadata": {},
   "source": [
    "# Revendo as Estatisticas"
   ]
  },
  {
   "cell_type": "code",
   "execution_count": null,
   "id": "ea75003c",
   "metadata": {},
   "outputs": [],
   "source": [
    "Diarias_Altas.describe(include='all')"
   ]
  },
  {
   "cell_type": "code",
   "execution_count": null,
   "id": "aae7bc3d",
   "metadata": {},
   "outputs": [],
   "source": [
    "# para ver a estatistica de Valores\n",
    "\n",
    "Diarias_Altas.describe(include='float')"
   ]
  },
  {
   "cell_type": "code",
   "execution_count": null,
   "id": "f222d179",
   "metadata": {},
   "outputs": [],
   "source": [
    "Diarias_Altas.describe(include='timedelta64[ns]')\n",
    "\n",
    "# nao entendi pq nao apareceu a Duração"
   ]
  },
  {
   "cell_type": "code",
   "execution_count": null,
   "id": "84646f07",
   "metadata": {},
   "outputs": [],
   "source": [
    "Diarias_Altas.describe(include='datetime64')"
   ]
  },
  {
   "cell_type": "raw",
   "id": "2780711f",
   "metadata": {},
   "source": [
    "pd.to_datetime(Diarias_Altas['Duração'],format='%y/%m/%d')"
   ]
  },
  {
   "cell_type": "code",
   "execution_count": null,
   "id": "3fc8b822",
   "metadata": {},
   "outputs": [],
   "source": [
    "Diarias_Altas.dtypes"
   ]
  },
  {
   "cell_type": "code",
   "execution_count": null,
   "id": "6326ec0a",
   "metadata": {},
   "outputs": [],
   "source": [
    "Diarias_Altas.describe"
   ]
  },
  {
   "cell_type": "markdown",
   "id": "5ea79ce6",
   "metadata": {},
   "source": [
    "# Busca de Alvos"
   ]
  },
  {
   "cell_type": "raw",
   "id": "a370ca6a",
   "metadata": {},
   "source": [
    "# Localizando Miguel Paiva\n",
    "\n",
    "Diarias_Vg[Diarias_Vg.Nome == 'TOMAS MIGUEL MINE RIBEIRO PAIVA'].head(12)"
   ]
  },
  {
   "cell_type": "raw",
   "id": "7b3e0afd",
   "metadata": {},
   "source": [
    "Viagem[Viagem.Nome == 'CHARLES ROBERTO MARTINS DA SILVA'].head(10)"
   ]
  },
  {
   "cell_type": "raw",
   "id": "a1829bc3",
   "metadata": {},
   "source": [
    "Viagem.loc[916,:]"
   ]
  },
  {
   "cell_type": "raw",
   "id": "b5c88c1e",
   "metadata": {},
   "source": [
    "# Ordenando por valor mais alta > $ 50.000\n",
    "\n",
    "Diarias_Altas.sort_values('Valor_Di',ascending=False).head(5)"
   ]
  },
  {
   "cell_type": "raw",
   "id": "4b7aed62",
   "metadata": {},
   "source": [
    "Viagem.loc[967,:]"
   ]
  },
  {
   "cell_type": "raw",
   "id": "243f5164",
   "metadata": {},
   "source": [
    "Viagem.loc[80770,:]"
   ]
  },
  {
   "cell_type": "raw",
   "id": "ca2d8503",
   "metadata": {},
   "source": [
    "Viagem.loc[2316,:]"
   ]
  },
  {
   "cell_type": "raw",
   "id": "a6dac895",
   "metadata": {},
   "source": [
    "# Ordenando por valor mais baixa > $50.000\n",
    "\n",
    "Diarias_Altas.sort_values('Valor_Di',ascending=True).head(5)"
   ]
  },
  {
   "cell_type": "raw",
   "id": "2df95cbd",
   "metadata": {},
   "source": [
    "# Repetindo o calculo da media das diarias\n",
    "\n",
    "Diarias_Altas.Valor_Di.mean()\n",
    "# a media é de R$ 67.881"
   ]
  },
  {
   "cell_type": "markdown",
   "id": "e7028c1e",
   "metadata": {},
   "source": [
    "# Reshaping pelo Valor_Di\n",
    "\n",
    "# Usando o Apply -- no Data Frame Diarias_Fev_Altas -- \n",
    "\n",
    "# Criando outra coluna -- Valores --"
   ]
  },
  {
   "cell_type": "markdown",
   "id": "ec9dfbe6",
   "metadata": {},
   "source": [
    "def Valores (a):\n",
    "    if a >= 50000:\n",
    "        return 'Valores Muito Altos'\n",
    "    if 30000 <= a <= 50000:\n",
    "        return 'Valores Bem Altos'\n",
    "    else:\n",
    "        return 'Valores Medianos'"
   ]
  },
  {
   "cell_type": "markdown",
   "id": "48710781",
   "metadata": {},
   "source": [
    "Diarias_Altas['Valores'] = Diarias_Altas['Valor_Di'].apply(Valores)"
   ]
  },
  {
   "cell_type": "code",
   "execution_count": null,
   "id": "6379441a",
   "metadata": {},
   "outputs": [],
   "source": [
    "Diarias_Altas.head(5)"
   ]
  },
  {
   "cell_type": "code",
   "execution_count": null,
   "id": "01129900",
   "metadata": {},
   "outputs": [],
   "source": [
    "Diarias_Altas.describe(include='all')"
   ]
  },
  {
   "cell_type": "code",
   "execution_count": null,
   "id": "3c59f3fe",
   "metadata": {},
   "outputs": [],
   "source": [
    "Diarias_Altas.astype"
   ]
  },
  {
   "cell_type": "code",
   "execution_count": null,
   "id": "b1754fe5",
   "metadata": {},
   "outputs": [],
   "source": [
    "Diarias_Altas.dtypes"
   ]
  },
  {
   "cell_type": "markdown",
   "id": "b686b752",
   "metadata": {},
   "source": [
    "# Verificando se tem Duplicidade\n"
   ]
  },
  {
   "cell_type": "raw",
   "id": "96b8e099",
   "metadata": {},
   "source": [
    "Viagem.duplicated().sum()\n",
    "# Nao há"
   ]
  },
  {
   "cell_type": "code",
   "execution_count": null,
   "id": "6d76a2bd",
   "metadata": {},
   "outputs": [],
   "source": [
    "Diarias_Altas.sort_values('Duração',ascending=False).head(5)"
   ]
  },
  {
   "cell_type": "code",
   "execution_count": null,
   "id": "6dd496da",
   "metadata": {},
   "outputs": [],
   "source": [
    "Trecho1.sort_values('Duração',ascending=False).head(5)"
   ]
  },
  {
   "cell_type": "code",
   "execution_count": null,
   "id": "7c629993",
   "metadata": {},
   "outputs": [],
   "source": [
    "Trecho1.sort_values('Duração',ascending=False).head(15)"
   ]
  },
  {
   "cell_type": "raw",
   "id": "6088348e",
   "metadata": {},
   "source": [
    "# mais de 1 ano em MIAMI \n",
    "Diarias_Vg.loc[562026,:]"
   ]
  },
  {
   "cell_type": "code",
   "execution_count": null,
   "id": "008940cf",
   "metadata": {},
   "outputs": [],
   "source": [
    "Diarias_Altas.dtypes"
   ]
  },
  {
   "cell_type": "code",
   "execution_count": null,
   "id": "f3b7905c",
   "metadata": {},
   "outputs": [],
   "source": [
    "# Mais estatisticas\n",
    "Diarias_Altas.describe"
   ]
  },
  {
   "cell_type": "code",
   "execution_count": null,
   "id": "c5b10fb3",
   "metadata": {},
   "outputs": [],
   "source": [
    "Diarias_Altas.describe(include='all')"
   ]
  },
  {
   "cell_type": "raw",
   "id": "6026ea2b",
   "metadata": {},
   "source": [
    "# vendo os duplicate da duração \n",
    "Diarias_Altas['Duração'].duplicated"
   ]
  },
  {
   "cell_type": "raw",
   "id": "c637462a",
   "metadata": {},
   "source": [
    "Diarias_Altas.Duração"
   ]
  },
  {
   "cell_type": "markdown",
   "id": "709f2cc0",
   "metadata": {},
   "source": [
    "# Fazendo 1o Grafico"
   ]
  },
  {
   "cell_type": "markdown",
   "id": "24a2a59c",
   "metadata": {},
   "source": [
    "# Ver colunas Diarias, Duracao, Missao (split), Origem e Destino Fora do Pais ou nao"
   ]
  },
  {
   "cell_type": "code",
   "execution_count": null,
   "id": "cb362126",
   "metadata": {},
   "outputs": [],
   "source": [
    "# import matplotlib.pyplot as plt"
   ]
  },
  {
   "cell_type": "code",
   "execution_count": null,
   "id": "7f6ac846",
   "metadata": {},
   "outputs": [],
   "source": [
    "import numpy as np\n",
    "import pandas as pd\n",
    "import matplotlib.pyplot as plt"
   ]
  },
  {
   "cell_type": "code",
   "execution_count": null,
   "id": "2b08f898",
   "metadata": {},
   "outputs": [],
   "source": [
    "%matplotlib inline"
   ]
  },
  {
   "cell_type": "code",
   "execution_count": null,
   "id": "918f0a0c",
   "metadata": {},
   "outputs": [],
   "source": [
    "Diarias_Altas.Duração.value_counts().sort_index().tail(15)"
   ]
  },
  {
   "cell_type": "code",
   "execution_count": null,
   "id": "94c3da8d",
   "metadata": {},
   "outputs": [],
   "source": [
    "Diarias_Altas.Duração.value_counts().sort_values()"
   ]
  },
  {
   "cell_type": "code",
   "execution_count": null,
   "id": "80e10942",
   "metadata": {},
   "outputs": [],
   "source": [
    "# Ordeando pelas maiores ocorrencias de Diarias Altas (>100)\n",
    "\n",
    "Diarias_Altas.Duração.sort_values().value_counts()"
   ]
  },
  {
   "cell_type": "code",
   "execution_count": null,
   "id": "d0e8a812",
   "metadata": {},
   "outputs": [],
   "source": [
    "Diarias_Altas.Duração.value_counts().sort_index().head(15)"
   ]
  },
  {
   "cell_type": "code",
   "execution_count": null,
   "id": "8bddeeea",
   "metadata": {},
   "outputs": [],
   "source": [
    "Def = Diarias_Altas.Duração.value_counts().sort_index()\n",
    "# Def = Diarias_Altas.Duração.sort_values().value_counts()"
   ]
  },
  {
   "cell_type": "code",
   "execution_count": null,
   "id": "8f053063",
   "metadata": {},
   "outputs": [],
   "source": [
    "Def.plot()\n",
    "# plot.show()"
   ]
  },
  {
   "cell_type": "code",
   "execution_count": null,
   "id": "cc46a0e5",
   "metadata": {},
   "outputs": [],
   "source": [
    "Diarias_Altas"
   ]
  },
  {
   "cell_type": "code",
   "execution_count": null,
   "id": "8babbdfd",
   "metadata": {},
   "outputs": [],
   "source": [
    "Diarias_Altas.Origem_Data.sort_values().head(10)"
   ]
  },
  {
   "cell_type": "raw",
   "id": "c0f0cdb7",
   "metadata": {},
   "source": [
    "Diarias_Altas[Diárias][Origem_Data].head()\n",
    "#.sort_values()"
   ]
  },
  {
   "cell_type": "code",
   "execution_count": null,
   "id": "551931e2",
   "metadata": {},
   "outputs": [],
   "source": [
    "# Diarias_Altas.Duração.value_counts().sort_index().plot"
   ]
  },
  {
   "cell_type": "code",
   "execution_count": null,
   "id": "5510cf6b",
   "metadata": {},
   "outputs": [],
   "source": [
    "# Outra Tentativa"
   ]
  },
  {
   "cell_type": "raw",
   "id": "b76363b4",
   "metadata": {},
   "source": [
    "import numpy as np\n",
    "import pandas as pd\n",
    "import matplotlib.pyplot as plt\n"
   ]
  },
  {
   "cell_type": "raw",
   "id": "2958f134",
   "metadata": {},
   "source": [
    "%matplotlib inline"
   ]
  },
  {
   "cell_type": "markdown",
   "id": "6c28e465",
   "metadata": {},
   "source": [
    "# Sao diferentes - esse ordena a duração pelos maiores valores"
   ]
  },
  {
   "cell_type": "code",
   "execution_count": null,
   "id": "d38bde93",
   "metadata": {},
   "outputs": [],
   "source": [
    "# Sao diferentes - esse ordena a duracao pelos maiors valores\n",
    "\n",
    "Diarias_Altas.Duração.sort_index().value_counts().head(15)"
   ]
  },
  {
   "cell_type": "markdown",
   "id": "ee132b03",
   "metadata": {},
   "source": [
    "# Aqui ele ordena a duracao primeiro e depois conta os valores"
   ]
  },
  {
   "cell_type": "code",
   "execution_count": null,
   "id": "5c5d19fa",
   "metadata": {},
   "outputs": [],
   "source": [
    "# Aqui ele ordena a duracao primeiro e depois conta os valores\n",
    "\n",
    "Diarias_Altas.Duração.value_counts().sort_index().head(15)"
   ]
  },
  {
   "cell_type": "code",
   "execution_count": null,
   "id": "487366d9",
   "metadata": {},
   "outputs": [],
   "source": [
    "Def_1 = Diarias_Altas.Duração.value_counts().sort_index()"
   ]
  },
  {
   "cell_type": "code",
   "execution_count": null,
   "id": "eec690b1",
   "metadata": {},
   "outputs": [],
   "source": [
    "Def_1.plot()\n",
    "# plot.show()"
   ]
  },
  {
   "cell_type": "raw",
   "id": "d4d170b6",
   "metadata": {},
   "source": [
    "ts= pd.Series(np.random.randn(1000), index=pd.date_range('1/1/2000', periods=1000))\n",
    "ts.plot()\n",
    "plt.show()"
   ]
  },
  {
   "cell_type": "raw",
   "id": "0c76a33a",
   "metadata": {},
   "source": [
    "Viagem.Duração.value_counts().sort_index().plot"
   ]
  },
  {
   "cell_type": "raw",
   "id": "ffd99c23",
   "metadata": {},
   "source": [
    "import matplotlib.pyplot as plt"
   ]
  },
  {
   "cell_type": "markdown",
   "id": "7fca170e",
   "metadata": {},
   "source": [
    "# Plotar por meses"
   ]
  },
  {
   "cell_type": "raw",
   "id": "190bdc0b",
   "metadata": {},
   "source": [
    "Diarias_Altas.head()"
   ]
  },
  {
   "cell_type": "raw",
   "id": "0ff03efc",
   "metadata": {},
   "source": [
    "Diarias_Altas.Data_Fim.dt.month_name().head(10)"
   ]
  },
  {
   "cell_type": "code",
   "execution_count": null,
   "id": "9efd5822",
   "metadata": {},
   "outputs": [],
   "source": [
    "Diarias_Altas.Origem_Data.dt.month.tail(5)"
   ]
  },
  {
   "cell_type": "code",
   "execution_count": null,
   "id": "734ebac3",
   "metadata": {},
   "outputs": [],
   "source": [
    "# Diarias_Altas.sort_values('Origem_Data', ascending=False)\n",
    "\n",
    "\n",
    "Diarias_Altas.sort_values('Origem_Data',ascending=True)"
   ]
  },
  {
   "cell_type": "raw",
   "id": "3d981a68",
   "metadata": {},
   "source": [
    "Def_2 = Diarias_Altas.sort_values('Origem_Data',ascending=True)"
   ]
  },
  {
   "cell_type": "raw",
   "id": "c7289b70",
   "metadata": {},
   "source": [
    "Def_2.plot()\n",
    "# muito grande para converter "
   ]
  },
  {
   "cell_type": "markdown",
   "id": "2c881334",
   "metadata": {},
   "source": [
    "# Pivotiar"
   ]
  },
  {
   "cell_type": "code",
   "execution_count": null,
   "id": "0f4bce2d",
   "metadata": {},
   "outputs": [],
   "source": [
    "Diarias_Altas1 = Diarias_Altas.sort_values('Origem_Data',ascending=True)"
   ]
  },
  {
   "cell_type": "code",
   "execution_count": null,
   "id": "9842c4e7",
   "metadata": {},
   "outputs": [],
   "source": [
    "Diarias_Altas1.shape"
   ]
  },
  {
   "cell_type": "code",
   "execution_count": null,
   "id": "f2a05052",
   "metadata": {},
   "outputs": [],
   "source": [
    "Diarias_Altas1.head(10)"
   ]
  },
  {
   "cell_type": "code",
   "execution_count": null,
   "id": "1028b135",
   "metadata": {},
   "outputs": [],
   "source": [
    "Diarias_Altas1.tail(15)"
   ]
  },
  {
   "cell_type": "code",
   "execution_count": null,
   "id": "013043c3",
   "metadata": {},
   "outputs": [],
   "source": [
    "Diarias_Altas2 = Diarias_Altas1.pivot_table(values='Origem_Data',index='Diárias',columns='Duração')\n",
    "# Diarias_Altas2 = Diarias_Altas1.pivot_table(values='dt.month.Data_Ini',index='Valor_Di',columns='Duração')\n",
    "# Diarias_Altas2 = Diarias_Altas1.pivot_table(values='Destinos',index='Valor_Di',columns='Duração')\n",
    "# Diarias_Altas2 = Diarias_Altas1.pivot_table(values='Duração',index='Valor_Di',columns='Destinos')"
   ]
  },
  {
   "cell_type": "code",
   "execution_count": null,
   "id": "a198ab39",
   "metadata": {},
   "outputs": [],
   "source": [
    "Diarias_Altas2"
   ]
  },
  {
   "cell_type": "code",
   "execution_count": null,
   "id": "2a43ea49",
   "metadata": {},
   "outputs": [],
   "source": [
    "Diarias_Altas.shape"
   ]
  },
  {
   "cell_type": "code",
   "execution_count": null,
   "id": "007d1f0b",
   "metadata": {},
   "outputs": [],
   "source": [
    "Diarias_Altas.head(10)"
   ]
  },
  {
   "cell_type": "code",
   "execution_count": null,
   "id": "cc7c6f1f",
   "metadata": {},
   "outputs": [],
   "source": [
    "Teste = Diarias_Altas2.value_counts().sort_index()\n",
    "# Diarias_Vg.head(10)"
   ]
  },
  {
   "cell_type": "raw",
   "id": "280ca7dc",
   "metadata": {},
   "source": [
    "Teste.plot()"
   ]
  },
  {
   "cell_type": "markdown",
   "id": "2fe899de",
   "metadata": {},
   "source": [
    "# 1o a usar é o Seaborn"
   ]
  },
  {
   "cell_type": "code",
   "execution_count": null,
   "id": "004a3b4d",
   "metadata": {},
   "outputs": [],
   "source": [
    "import seaborn as sb"
   ]
  },
  {
   "cell_type": "code",
   "execution_count": null,
   "id": "17ee9ce4",
   "metadata": {},
   "outputs": [],
   "source": [
    "type(Trecho)"
   ]
  },
  {
   "cell_type": "code",
   "execution_count": null,
   "id": "be8f1346",
   "metadata": {},
   "outputs": [],
   "source": [
    "type(Trecho1)"
   ]
  },
  {
   "cell_type": "code",
   "execution_count": null,
   "id": "4c8a2af1",
   "metadata": {},
   "outputs": [],
   "source": [
    "type(Diarias_Altas)"
   ]
  },
  {
   "cell_type": "raw",
   "id": "65a5c655",
   "metadata": {},
   "source": [
    "Trecho[Trecho.Meio].value_counts().head(5)"
   ]
  },
  {
   "cell_type": "markdown",
   "id": "ee388a54",
   "metadata": {},
   "source": [
    "# Pairplot\n",
    "# Nao saiu como esperado"
   ]
  },
  {
   "cell_type": "raw",
   "id": "c9d7583d",
   "metadata": {},
   "source": [
    "trecho = sb.load_dataset('Trecho')\n",
    "trecho.head(5)"
   ]
  },
  {
   "cell_type": "raw",
   "id": "95ab6311",
   "metadata": {},
   "source": [
    "sb.pairplot(trecho)"
   ]
  },
  {
   "cell_type": "raw",
   "id": "83d3bd82",
   "metadata": {},
   "source": [
    "sb.pairplot(Diarias_Altas,hue= 'Meio')"
   ]
  },
  {
   "cell_type": "code",
   "execution_count": null,
   "id": "460ccae7",
   "metadata": {},
   "outputs": [],
   "source": [
    "# sb.pairplot(Diarias_Altas,hue= 'Diárias')"
   ]
  },
  {
   "cell_type": "code",
   "execution_count": null,
   "id": "75ccb2dc",
   "metadata": {},
   "outputs": [],
   "source": [
    "sb.pairplot(Diarias_Altas,hue= 'Missao')"
   ]
  },
  {
   "cell_type": "code",
   "execution_count": null,
   "id": "23c347e7",
   "metadata": {},
   "outputs": [],
   "source": [
    "sb.pairplot(Diarias_Altas,hue= 'Duração')"
   ]
  },
  {
   "cell_type": "code",
   "execution_count": null,
   "id": "add43422",
   "metadata": {},
   "outputs": [],
   "source": [
    "sb.pairplot(Diarias_Altas)"
   ]
  },
  {
   "cell_type": "code",
   "execution_count": null,
   "id": "dfec7cc9",
   "metadata": {},
   "outputs": [],
   "source": [
    "sb.pairplot(Diarias_Altas, hue='Meio')"
   ]
  },
  {
   "cell_type": "raw",
   "id": "a5fc0171",
   "metadata": {},
   "source": [
    "sb.pairplot(Diarias_Altas, hue='Diárias')"
   ]
  },
  {
   "cell_type": "code",
   "execution_count": null,
   "id": "7ab060b5",
   "metadata": {},
   "outputs": [],
   "source": [
    "sb.pairplot(Diarias_Altas, hue='Missao')"
   ]
  },
  {
   "cell_type": "code",
   "execution_count": null,
   "id": "a39090d1",
   "metadata": {},
   "outputs": [],
   "source": [
    "sb.pairplot(Diarias_Altas, hue='Duração')"
   ]
  },
  {
   "cell_type": "code",
   "execution_count": null,
   "id": "17399c60",
   "metadata": {},
   "outputs": [],
   "source": [
    "sb.pairplot(Trecho1, hue='Meio')"
   ]
  },
  {
   "cell_type": "raw",
   "id": "0cec205a",
   "metadata": {},
   "source": [
    "sb.pairplot(Trecho1, hue='Diárias')"
   ]
  },
  {
   "cell_type": "code",
   "execution_count": null,
   "id": "04ae593b",
   "metadata": {},
   "outputs": [],
   "source": [
    "sb.pairplot(Trecho1, hue='Missao')"
   ]
  },
  {
   "cell_type": "code",
   "execution_count": null,
   "id": "b494f1c6",
   "metadata": {},
   "outputs": [],
   "source": [
    "sb.pairplot(Trecho1, hue='Duração')"
   ]
  },
  {
   "cell_type": "code",
   "execution_count": null,
   "id": "b2c9cc42",
   "metadata": {},
   "outputs": [],
   "source": [
    "sb.pairplot(Trecho1)"
   ]
  },
  {
   "cell_type": "code",
   "execution_count": null,
   "id": "61722ff1",
   "metadata": {},
   "outputs": [],
   "source": [
    "sb.pairplot(Trecho1)"
   ]
  },
  {
   "cell_type": "code",
   "execution_count": null,
   "id": "44b7c5ca",
   "metadata": {},
   "outputs": [],
   "source": [
    "sb.pairplot(Diarias_Altas, hue='Meio')"
   ]
  },
  {
   "cell_type": "raw",
   "id": "a5771f06",
   "metadata": {},
   "source": [
    "sb.pairplot(Diarias_Altas, hue='Diárias')"
   ]
  },
  {
   "cell_type": "code",
   "execution_count": null,
   "id": "267c22bf",
   "metadata": {},
   "outputs": [],
   "source": [
    "sb.pairplot(Diarias_Altas, hue='Missao')"
   ]
  },
  {
   "cell_type": "code",
   "execution_count": null,
   "id": "25a8b19a",
   "metadata": {},
   "outputs": [],
   "source": [
    "sb.pairplot(Diarias_Altas, hue='Duração')"
   ]
  },
  {
   "cell_type": "markdown",
   "id": "6ed0427a",
   "metadata": {},
   "source": [
    "# COUNTPLOT - para dados nâo categoricos com hue"
   ]
  },
  {
   "cell_type": "code",
   "execution_count": null,
   "id": "bfc35170",
   "metadata": {},
   "outputs": [],
   "source": [
    "Diarias_Altas.columns"
   ]
  },
  {
   "cell_type": "code",
   "execution_count": null,
   "id": "a2259be8",
   "metadata": {},
   "outputs": [],
   "source": [
    "sb.countplot(x = 'Meio',data=Diarias_Altas)"
   ]
  },
  {
   "cell_type": "code",
   "execution_count": null,
   "id": "4721311f",
   "metadata": {},
   "outputs": [],
   "source": [
    "sb.countplot(x = 'Diárias',data=Diarias_Altas)"
   ]
  },
  {
   "cell_type": "code",
   "execution_count": null,
   "id": "cc8fd863",
   "metadata": {},
   "outputs": [],
   "source": [
    "sb.countplot(x = 'Missao',data=Diarias_Altas)"
   ]
  },
  {
   "cell_type": "code",
   "execution_count": null,
   "id": "1cd381e1",
   "metadata": {},
   "outputs": [],
   "source": [
    "sb.countplot(x = 'Duração',data=Diarias_Altas)"
   ]
  },
  {
   "cell_type": "code",
   "execution_count": null,
   "id": "9b5e723b",
   "metadata": {},
   "outputs": [],
   "source": [
    "sb.countplot(x = 'Meio',data=Trecho1)"
   ]
  },
  {
   "cell_type": "code",
   "execution_count": null,
   "id": "83970ca2",
   "metadata": {},
   "outputs": [],
   "source": [
    "sb.countplot(x = 'Missao',data=Trecho1)"
   ]
  },
  {
   "cell_type": "markdown",
   "id": "2e48ab17",
   "metadata": {},
   "source": [
    "# BOXPLOT - Divide em quartis"
   ]
  },
  {
   "cell_type": "code",
   "execution_count": null,
   "id": "071ccd8e",
   "metadata": {},
   "outputs": [],
   "source": [
    "Diarias_Altas.head(3)"
   ]
  },
  {
   "cell_type": "raw",
   "id": "3151cf0d",
   "metadata": {},
   "source": [
    "sb.boxplot(x='Diárias', y= 'Duração', data = Diarias_Altas)"
   ]
  },
  {
   "cell_type": "raw",
   "id": "703091ed",
   "metadata": {},
   "source": [
    "sb.boxplot(x='Missao', y= 'Duração', data = Diarias_Altas)\n",
    "# missao tem que ser numerica"
   ]
  },
  {
   "cell_type": "raw",
   "id": "2ed260bf",
   "metadata": {},
   "source": [
    "sb.boxplot(x='Duração', y= 'Diárias', data = Diarias_Altas)"
   ]
  },
  {
   "cell_type": "raw",
   "id": "c08c9f7a",
   "metadata": {},
   "source": [
    "sb.boxplot(x='Meio', y= 'Duração', data = Diarias_Altas, hue = 'Missao')"
   ]
  },
  {
   "cell_type": "raw",
   "id": "22a56dcb",
   "metadata": {},
   "source": [
    "sb.boxplot(x='Duração', y= 'Meio', data = Diarias_Altas, hue = 'Missao')\n",
    "# Duracao e Meio nao sao numericad"
   ]
  },
  {
   "cell_type": "code",
   "execution_count": null,
   "id": "fe2e7df8",
   "metadata": {},
   "outputs": [],
   "source": [
    "sb.boxplot(x='Meio', y= 'Diárias', data = Diarias_Altas, palette = 'PRGn')\n",
    "# com paletta de cor diferente "
   ]
  },
  {
   "cell_type": "code",
   "execution_count": null,
   "id": "a6e65ad6",
   "metadata": {
    "scrolled": true
   },
   "outputs": [],
   "source": [
    "sb.boxplot(x='Meio', y= 'Diárias', data = Diarias_Altas, hue = 'Missao')"
   ]
  },
  {
   "cell_type": "code",
   "execution_count": null,
   "id": "d8639262",
   "metadata": {},
   "outputs": [],
   "source": [
    "sb.boxplot(y='Diárias', x= 'Meio', data = Diarias_Altas, palette = 'PRGn', hue = 'Missao')"
   ]
  },
  {
   "cell_type": "raw",
   "id": "bb12776e",
   "metadata": {},
   "source": [
    "sb.boxplot(x='Meio', y= 'Diárias', data = Trecho1, hue = 'Missao')"
   ]
  },
  {
   "cell_type": "raw",
   "id": "71e92dbe",
   "metadata": {},
   "source": [
    "sb.boxplot(x='Diárias', y= 'Meio', data = Diarias_Altas, hue = 'Missao')"
   ]
  },
  {
   "cell_type": "markdown",
   "id": "e6560279",
   "metadata": {},
   "source": [
    "# VIOLIN PLOT - Grafico de Frequencia"
   ]
  },
  {
   "cell_type": "code",
   "execution_count": null,
   "id": "8264faaa",
   "metadata": {},
   "outputs": [],
   "source": [
    "sb.violinplot(x='Meio', y= 'Diárias', data = Diarias_Altas, palette = 'PRGn')\n",
    "\n",
    "# o ponto branco e a media"
   ]
  },
  {
   "cell_type": "code",
   "execution_count": null,
   "id": "22f32ecc",
   "metadata": {},
   "outputs": [],
   "source": [
    "sb.violinplot(x='Meio', y= 'Diárias', data = Diarias_Altas, palette = 'PRGn', hue = 'Missao')\n",
    "\n",
    "# o ponto branco e a media"
   ]
  },
  {
   "cell_type": "code",
   "execution_count": null,
   "id": "036673de",
   "metadata": {},
   "outputs": [],
   "source": [
    "# Refinando o grafico - Dividindo por Missao\n",
    "\n",
    "sb.violinplot(x='Meio', y= 'Diárias', data = Diarias_Altas, palette = 'PRGn', hue = 'Missao', split= True)"
   ]
  },
  {
   "cell_type": "raw",
   "id": "f85e7fef",
   "metadata": {},
   "source": [
    "sb.violinplot(x='Meio', y= 'Missao', data = Diarias_Altas) \n",
    "\n",
    "\n",
    "# Neither the `x` nor `y` variable appears to be numeric.\n",
    "\n",
    "# hue = 'Missao'"
   ]
  },
  {
   "cell_type": "raw",
   "id": "09ce044f",
   "metadata": {},
   "source": [
    "sb.violinplot(x='Diárias', y= 'Duração', data = Diarias_Altas)"
   ]
  },
  {
   "cell_type": "markdown",
   "id": "6433e64e",
   "metadata": {},
   "source": [
    "# SPLIT PLOT - Nao precisa ser numerico"
   ]
  },
  {
   "cell_type": "code",
   "execution_count": null,
   "id": "e8cca8d2",
   "metadata": {},
   "outputs": [],
   "source": [
    "sb.stripplot(x = 'Meio', y = 'Diárias', data = Diarias_Altas)\n",
    "    \n",
    "#    x='Meio', y= 'Diárias', data = Diarias_Altas, palette = 'PRGn', hue = 'Missao', split= True))"
   ]
  },
  {
   "cell_type": "code",
   "execution_count": null,
   "id": "35a27a09",
   "metadata": {},
   "outputs": [],
   "source": [
    "sb.stripplot(x='Meio', y= 'Diárias', data = Diarias_Altas, palette = 'PRGn', hue = 'Missao')"
   ]
  },
  {
   "cell_type": "raw",
   "id": "b2c9295c",
   "metadata": {},
   "source": [
    "Função jitter\n",
    "\n",
    "sb.stripplot(x='Meio', y= 'Diárias', data = Diarias_Altas, jitter = True)\n",
    "# Nao funcionou"
   ]
  },
  {
   "cell_type": "markdown",
   "id": "3d93bb95",
   "metadata": {},
   "source": [
    "# SWARTPLOT - Enxame"
   ]
  },
  {
   "cell_type": "code",
   "execution_count": null,
   "id": "3c9fd2d7",
   "metadata": {},
   "outputs": [],
   "source": [
    "sb.swarmplot(x = 'Meio', y = 'Diárias', data = Diarias_Altas)"
   ]
  },
  {
   "cell_type": "markdown",
   "id": "6ba8fbd4",
   "metadata": {},
   "source": [
    "# Plotando 2 Graficos na mesma Celula"
   ]
  },
  {
   "cell_type": "code",
   "execution_count": null,
   "id": "ddd8952e",
   "metadata": {},
   "outputs": [],
   "source": [
    "sb.swarmplot(x = 'Meio', y = 'Diárias', data = Diarias_Altas, color = 'black')\n",
    "\n",
    "sb.violinplot(x='Meio', y= 'Diárias', data = Diarias_Altas)"
   ]
  },
  {
   "cell_type": "code",
   "execution_count": null,
   "id": "38f9207a",
   "metadata": {},
   "outputs": [],
   "source": [
    "# Com preto e paletta \n",
    "\n",
    "sb.swarmplot(x = 'Meio', y = 'Diárias', data = Diarias_Altas, color = 'black')\n",
    "\n",
    "sb.violinplot(x='Meio', y= 'Diárias', data = Diarias_Altas, palette = 'PRGn')"
   ]
  },
  {
   "cell_type": "markdown",
   "id": "230a04f8",
   "metadata": {},
   "source": [
    "# Visualizando Correlação"
   ]
  },
  {
   "cell_type": "code",
   "execution_count": null,
   "id": "f3d5d4ff",
   "metadata": {},
   "outputs": [],
   "source": [
    "correlacao = Trecho.corr()\n",
    "correlacao\n",
    "# Quanto mais perto de mais correlacao tem - ele arace com o pairplot\n",
    "# neste caso a correlacao e muita fraca como um TODO"
   ]
  },
  {
   "cell_type": "code",
   "execution_count": null,
   "id": "e78cc987",
   "metadata": {},
   "outputs": [],
   "source": [
    "correlacao1 = Trecho1.corr()\n",
    "correlacao1"
   ]
  },
  {
   "cell_type": "code",
   "execution_count": null,
   "id": "13b0ba9a",
   "metadata": {},
   "outputs": [],
   "source": [
    "correlacao2 = Diarias_Altas.corr()\n",
    "correlacao2"
   ]
  },
  {
   "cell_type": "markdown",
   "id": "78827fc0",
   "metadata": {},
   "source": [
    "# Heatmap - Mapa Quente"
   ]
  },
  {
   "cell_type": "code",
   "execution_count": null,
   "id": "edfdfac4",
   "metadata": {},
   "outputs": [],
   "source": [
    "sb.heatmap(correlacao, annot = True)"
   ]
  },
  {
   "cell_type": "code",
   "execution_count": null,
   "id": "f685159b",
   "metadata": {},
   "outputs": [],
   "source": [
    "sb.heatmap(correlacao1, annot = True)"
   ]
  },
  {
   "cell_type": "code",
   "execution_count": null,
   "id": "9a7d9051",
   "metadata": {},
   "outputs": [],
   "source": [
    "sb.heatmap(correlacao2, annot = True)"
   ]
  },
  {
   "cell_type": "raw",
   "id": "a3745c07",
   "metadata": {},
   "source": [
    "sb.heatmap(Trecho)"
   ]
  },
  {
   "cell_type": "code",
   "execution_count": null,
   "id": "e23ba61c",
   "metadata": {},
   "outputs": [],
   "source": [
    "sb.heatmap(Diarias_Altas2)"
   ]
  },
  {
   "cell_type": "markdown",
   "id": "b0a78cb2",
   "metadata": {},
   "source": [
    "# Cluster Map"
   ]
  },
  {
   "cell_type": "code",
   "execution_count": null,
   "id": "0172e9c3",
   "metadata": {
    "scrolled": false
   },
   "outputs": [],
   "source": [
    "sb.clustermap(Trecho)"
   ]
  },
  {
   "cell_type": "code",
   "execution_count": null,
   "id": "9885a5c9",
   "metadata": {},
   "outputs": [],
   "source": [
    "Diarias_Altas"
   ]
  },
  {
   "cell_type": "markdown",
   "id": "09a0b8d4",
   "metadata": {},
   "source": [
    "# lmplot"
   ]
  },
  {
   "cell_type": "code",
   "execution_count": null,
   "id": "7b52adc4",
   "metadata": {},
   "outputs": [],
   "source": [
    "sb.lmplot(x = 'Meio', y = 'Diárias', data = Trecho, hue = 'Missao')\n",
    "# sb.lmplot(x = 'Meio', y = 'Diárias', data = Diarias_Altas, hue = 'Missao')"
   ]
  },
  {
   "cell_type": "code",
   "execution_count": null,
   "id": "31406ec9",
   "metadata": {},
   "outputs": [],
   "source": [
    "sb.lmplot(x = 'Meio', y = 'Diárias', data = Trecho, hue = 'Missao', col = 'Missao')\n",
    "# sb.lmplot(x = 'Meio', y = 'Diárias', data = Diarias_Altas, hue = 'Missao', col = 'Missao')"
   ]
  }
 ],
 "metadata": {
  "kernelspec": {
   "display_name": "Python 3 (ipykernel)",
   "language": "python",
   "name": "python3"
  },
  "language_info": {
   "codemirror_mode": {
    "name": "ipython",
    "version": 3
   },
   "file_extension": ".py",
   "mimetype": "text/x-python",
   "name": "python",
   "nbconvert_exporter": "python",
   "pygments_lexer": "ipython3",
   "version": "3.11.4"
  }
 },
 "nbformat": 4,
 "nbformat_minor": 5
}
